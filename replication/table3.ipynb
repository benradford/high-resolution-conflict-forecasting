{
 "cells": [
  {
   "cell_type": "markdown",
   "metadata": {},
   "source": [
    "# High Resolution Conflict Forecasting with Spatial Convolutions and Long Short-Term Memory\n",
    "\n",
    "## Replication Archive\n",
    "\n",
    "[Benjamin J. Radford](https://www.benradford.com)    \n",
    "Assistant Professor  \n",
    "UNC Charlotte  \n",
    "bradfor7@uncc.edu  \n",
    "\n",
    "This file replicates the following tables and figures:\n",
    "\n",
    "* Table 3\n",
    "\n",
    "## Imports and seeds"
   ]
  },
  {
   "cell_type": "code",
   "execution_count": 1,
   "metadata": {},
   "outputs": [],
   "source": [
    "import sys\n",
    "import os\n",
    "import gc\n",
    "import logging\n",
    "\n",
    "import pandas as pd\n",
    "import numpy as np\n",
    "from datetime import datetime\n",
    "\n",
    "from sklearn.ensemble import RandomForestRegressor\n",
    "from joblib import dump, load\n",
    "\n",
    "from itertools import product\n",
    "from math import isnan\n",
    "\n",
    "import views\n",
    "from views import Period, Model, Downsampling\n",
    "from views.utils.data import assign_into_df\n",
    "from views.apps.transforms import lib as translib\n",
    "from views.apps.evaluation import lib as evallib, feature_importance as fi\n",
    "from views.apps.model import api\n",
    "from views.apps.extras import extras\n",
    "\n",
    "import keras\n",
    "from keras.models import Model\n",
    "from keras.layers import Input, ConvLSTM2D, Activation, Conv3D, BatchNormalization, Dropout, Bidirectional, GaussianNoise, Multiply\n",
    "from keras import optimizers\n",
    "\n",
    "import tensorflow as tf\n",
    "\n",
    "import random\n",
    "import geoplot as gplt\n",
    "import contextily as ctx\n",
    "\n",
    "import matplotlib\n",
    "import matplotlib.pyplot as plt\n",
    "from mpl_toolkits.axes_grid1 import AxesGrid\n",
    "from mpl_toolkits.axes_grid1 import make_axes_locatable\n",
    "\n",
    "from numpy.random import seed\n",
    "seed(1234)\n",
    "tf.random.set_seed(1234)\n",
    "\n",
    "os.environ['TF_CPP_MIN_LOG_LEVEL'] = '3'"
   ]
  },
  {
   "cell_type": "code",
   "execution_count": 2,
   "metadata": {},
   "outputs": [],
   "source": [
    "cols_ids = [\n",
    "    \"col_idx\",\n",
    "    \"row_idx\",\n",
    "    \"pg_id\",\n",
    "    \"year\",\n",
    "    \"month\",\n",
    "    \"year_idx\",\n",
    "    \"month_idx\",\n",
    "    \"year_month_idx\"]\n",
    "\n",
    "cols_feats = [\n",
    "    \"ln_ged_best_sb\",\n",
    "    \"pgd_bdist3\",\n",
    "    \"pgd_capdist\",\n",
    "    \"pgd_agri_ih\",\n",
    "    \"pgd_pop_gpw_sum\",\n",
    "    \"pgd_ttime_mean\",\n",
    "    \"spdist_pgd_diamsec\",\n",
    "    \"pgd_pasture_ih\",\n",
    "    \"pgd_savanna_ih\",\n",
    "    \"pgd_forest_ih\",\n",
    "    \"pgd_urban_ih\",\n",
    "    \"pgd_barren_ih\",\n",
    "    \"pgd_gcp_mer\"\n",
    "]\n",
    "\n",
    "cols_lags = [\n",
    "    \"delta_1\",\n",
    "    \"delta_2\",\n",
    "    \"delta_3\",\n",
    "    \"delta_4\",\n",
    "    \"delta_5\",\n",
    "    \"delta_6\",\n",
    "    \"delta_7\"\n",
    "]\n"
   ]
  },
  {
   "cell_type": "markdown",
   "metadata": {},
   "source": [
    "## Load all attention values"
   ]
  },
  {
   "cell_type": "code",
   "execution_count": 3,
   "metadata": {},
   "outputs": [],
   "source": [
    "attn_preds = np.load(\"../data/attention_model/attention_values.npy\")"
   ]
  },
  {
   "cell_type": "markdown",
   "metadata": {},
   "source": [
    "## Compute means and produce Table 3"
   ]
  },
  {
   "cell_type": "code",
   "execution_count": 4,
   "metadata": {},
   "outputs": [
    {
     "name": "stdout",
     "output_type": "stream",
     "text": [
      "\\verb@ ln_ged_best_sb @ & 0.284 \\\\\n",
      "\\verb@ pgd_pop_gpw_sum @ & 0.271 \\\\\n",
      "\\verb@ pgd_urban_ih @ & 0.207 \\\\\n",
      "\\verb@ pgd_ttime_mean @ & 0.051 \\\\\n",
      "\\verb@ pgd_agri_ih @ & 0.040 \\\\\n",
      "\\verb@ pgd_gcp_mer @ & 0.035 \\\\\n",
      "\\verb@ pgd_forest_ih @ & 0.029 \\\\\n",
      "\\verb@ spdist_pgd_diamsec @ & 0.017 \\\\\n",
      "\\verb@ pgd_barren_ih @ & 0.016 \\\\\n",
      "\\verb@ pgd_bdist3 @ & 0.014 \\\\\n",
      "\\verb@ pgd_savanna_ih @ & 0.012 \\\\\n",
      "\\verb@ pgd_pasture_ih @ & 0.011 \\\\\n",
      "\\verb@ missing_indicator @ & 0.010 \\\\\n",
      "\\verb@ pgd_capdist @ & 0.010 \\\\\n"
     ]
    }
   ],
   "source": [
    "feat_imp = list(np.mean(attn_preds, axis=(0,1,2,3)))\n",
    "\n",
    "for ff,ww in sorted(list(zip(cols_feats+[\"missing_indicator\"],feat_imp)), key = lambda x:x[1], reverse=True ):\n",
    "    print(f\"\\\\verb@ {ff} @ & {ww:.3f} \\\\\\\\\")"
   ]
  }
 ],
 "metadata": {
  "kernelspec": {
   "display_name": "Python [conda env:views2]",
   "language": "python",
   "name": "conda-env-views2-py"
  },
  "language_info": {
   "codemirror_mode": {
    "name": "ipython",
    "version": 3
   },
   "file_extension": ".py",
   "mimetype": "text/x-python",
   "name": "python",
   "nbconvert_exporter": "python",
   "pygments_lexer": "ipython3",
   "version": "3.8.0"
  }
 },
 "nbformat": 4,
 "nbformat_minor": 4
}
